{
  "nbformat": 4,
  "nbformat_minor": 0,
  "metadata": {
    "colab": {
      "name": "Prasad Kulkarni DEPT of MBA KLS GIT Python workbook",
      "version": "0.3.2",
      "provenance": []
    },
    "kernelspec": {
      "name": "python3",
      "display_name": "Python 3"
    }
  },
  "cells": [
    {
      "cell_type": "code",
      "metadata": {
        "id": "VQl-vkqJGccr",
        "colab_type": "code",
        "outputId": "62a31c47-6abe-45b1-f848-62d3197b3006",
        "colab": {
          "base_uri": "https://localhost:8080/",
          "height": 34
        }
      },
      "source": [
        "print(\"Hello Python\")"
      ],
      "execution_count": 0,
      "outputs": [
        {
          "output_type": "stream",
          "text": [
            "Hello Python\n"
          ],
          "name": "stdout"
        }
      ]
    },
    {
      "cell_type": "code",
      "metadata": {
        "id": "7spib1xQGs1H",
        "colab_type": "code",
        "outputId": "02440e1e-e3b0-47c3-938e-6b48f4b6a693",
        "colab": {
          "base_uri": "https://localhost:8080/",
          "height": 34
        }
      },
      "source": [
        "print (\"Hello Python\")"
      ],
      "execution_count": 0,
      "outputs": [
        {
          "output_type": "stream",
          "text": [
            "Hello Python\n"
          ],
          "name": "stdout"
        }
      ]
    },
    {
      "cell_type": "code",
      "metadata": {
        "id": "96oW0VtdJFlQ",
        "colab_type": "code",
        "outputId": "55ed266e-3277-4119-9495-89005c394677",
        "colab": {
          "base_uri": "https://localhost:8080/",
          "height": 34
        }
      },
      "source": [
        "if True:\n",
        " print (\"True\")\n",
        "else:\n",
        " print (\"False\")"
      ],
      "execution_count": 0,
      "outputs": [
        {
          "output_type": "stream",
          "text": [
            "True\n"
          ],
          "name": "stdout"
        }
      ]
    },
    {
      "cell_type": "code",
      "metadata": {
        "id": "xxoIij4jJWVQ",
        "colab_type": "code",
        "outputId": "6848cf0e-95a9-4f35-bf58-a23e98aaed35",
        "colab": {
          "base_uri": "https://localhost:8080/",
          "height": 34
        }
      },
      "source": [
        "if True:\n",
        "  print(\"True\")\n",
        "else:\n",
        "  print(\"False\")"
      ],
      "execution_count": 0,
      "outputs": [
        {
          "output_type": "stream",
          "text": [
            "True\n"
          ],
          "name": "stdout"
        }
      ]
    },
    {
      "cell_type": "code",
      "metadata": {
        "id": "eTtxLLHeJnMe",
        "colab_type": "code",
        "outputId": "ec1136c6-78a7-4178-f887-98ca80ac3c04",
        "colab": {
          "base_uri": "https://localhost:8080/",
          "height": 51
        }
      },
      "source": [
        "if True:\n",
        "  print(\"Answer\")\n",
        "  print(\"True\")\n",
        "else:\n",
        "        print(\" Answer\")\n",
        "        print(\"False\")"
      ],
      "execution_count": 0,
      "outputs": [
        {
          "output_type": "stream",
          "text": [
            "Answer\n",
            "True\n"
          ],
          "name": "stdout"
        }
      ]
    },
    {
      "cell_type": "code",
      "metadata": {
        "id": "7_0BzCeXKzWm",
        "colab_type": "code",
        "outputId": "07dcee76-5417-4d61-ef1f-141b488dfedf",
        "colab": {
          "base_uri": "https://localhost:8080/",
          "height": 68
        }
      },
      "source": [
        "counter=100 # an integer\n",
        "mile=100.5  # a float number\n",
        "name=\"Gogte\" # a string\n",
        "print(counter)\n",
        "print(mile)\n",
        "print(name)"
      ],
      "execution_count": 0,
      "outputs": [
        {
          "output_type": "stream",
          "text": [
            "100\n",
            "100.5\n",
            "Gogte\n"
          ],
          "name": "stdout"
        }
      ]
    },
    {
      "cell_type": "code",
      "metadata": {
        "id": "ZKGzKVKZUH6N",
        "colab_type": "code",
        "colab": {}
      },
      "source": [
        "a=b=c=1"
      ],
      "execution_count": 0,
      "outputs": []
    },
    {
      "cell_type": "code",
      "metadata": {
        "id": "HeBJrkyTULq5",
        "colab_type": "code",
        "outputId": "82e0658a-a0ec-4bda-f4cb-72855ea34920",
        "colab": {
          "base_uri": "https://localhost:8080/",
          "height": 68
        }
      },
      "source": [
        "a,b,c=2,3,4\n",
        "print(a)\n",
        "print(a,b)\n",
        "print(a,b,c)"
      ],
      "execution_count": 0,
      "outputs": [
        {
          "output_type": "stream",
          "text": [
            "2\n",
            "2 3\n",
            "2 3 4\n"
          ],
          "name": "stdout"
        }
      ]
    },
    {
      "cell_type": "code",
      "metadata": {
        "id": "JJNQ7J5gUxY9",
        "colab_type": "code",
        "outputId": "30cd9d91-124e-4588-bbfd-79b5f59b398c",
        "colab": {
          "base_uri": "https://localhost:8080/",
          "height": 221
        }
      },
      "source": [
        "# working with strings\n",
        "str=\"Prasad Kulkarni\"\n",
        "print (str[0])\n",
        "print(str[1])\n",
        "print(str[2])\n",
        "print(str[:2])\n",
        "print(str[2:])\n",
        "print(str[:3])\n",
        "print (str[3:])\n",
        "print(str[2:5])\n",
        "print(str[6:12])\n",
        "print(str[6:15])\n",
        "print(str*2)\n",
        "print(str+'Test')"
      ],
      "execution_count": 0,
      "outputs": [
        {
          "output_type": "stream",
          "text": [
            "P\n",
            "r\n",
            "a\n",
            "Pr\n",
            "asad Kulkarni\n",
            "Pra\n",
            "sad Kulkarni\n",
            "asa\n",
            " Kulka\n",
            " Kulkarni\n",
            "Prasad KulkarniPrasad Kulkarni\n",
            "Prasad KulkarniTest\n"
          ],
          "name": "stdout"
        }
      ]
    },
    {
      "cell_type": "code",
      "metadata": {
        "id": "m2QfcratWcUj",
        "colab_type": "code",
        "outputId": "836c3aa1-9201-4000-a16a-4889417fa2e0",
        "colab": {
          "base_uri": "https://localhost:8080/",
          "height": 102
        }
      },
      "source": [
        "# Working with list\n",
        "India=[13,17,19,\"Country'\",\" Nature\", 32,13.5]\n",
        "print(India[0])\n",
        "print(India[:2])\n",
        "print(India[2:])\n",
        "print(India[2:5])\n",
        "print(India*2)"
      ],
      "execution_count": 0,
      "outputs": [
        {
          "output_type": "stream",
          "text": [
            "13\n",
            "[13, 17]\n",
            "[19, \"Country'\", ' Nature', 32, 13.5]\n",
            "[19, \"Country'\", ' Nature']\n",
            "[13, 17, 19, \"Country'\", ' Nature', 32, 13.5, 13, 17, 19, \"Country'\", ' Nature', 32, 13.5]\n"
          ],
          "name": "stdout"
        }
      ]
    },
    {
      "cell_type": "code",
      "metadata": {
        "id": "DAhasBcHaqm1",
        "colab_type": "code",
        "outputId": "721c120c-8118-4667-dfeb-797c7696ad9b",
        "colab": {
          "base_uri": "https://localhost:8080/",
          "height": 68
        }
      },
      "source": [
        "# working with tuples\n",
        "Karnataka=('state',\"Belagavi\",1,2,24,5,7)\n",
        "print(Karnataka)\n",
        "print(Karnataka[1:3])\n",
        "print(Karnataka[3:])"
      ],
      "execution_count": 0,
      "outputs": [
        {
          "output_type": "stream",
          "text": [
            "('state', 'Belagavi', 1, 2, 24, 5, 7)\n",
            "('Belagavi', 1)\n",
            "(2, 24, 5, 7)\n"
          ],
          "name": "stdout"
        }
      ]
    },
    {
      "cell_type": "code",
      "metadata": {
        "id": "2_8lJOHsbpMD",
        "colab_type": "code",
        "outputId": "79beec80-48f8-49fb-cac9-2c720428a7d5",
        "colab": {
          "base_uri": "https://localhost:8080/",
          "height": 109
        }
      },
      "source": [
        "# working with dictionaries\n",
        "dict={}\n",
        "dict ['One']= \"This is one\"\n",
        "print(One)\n",
        "dict[2]=\"This is two\"\n",
        "print(dict[2])\n",
        "tinydict={'Name':'John','Dept':'MBA', 'Code': 23}\n",
        "print(tinydict)\n",
        "print (tinydict.keys())\n",
        "print(tinydict.values())"
      ],
      "execution_count": 0,
      "outputs": [
        {
          "output_type": "stream",
          "text": [
            "['This is one']\n",
            "This is two\n",
            "{'Name': 'John', 'Dept': 'MBA', 'Code': 23}\n",
            "dict_keys(['Name', 'Dept', 'Code'])\n",
            "dict_values(['John', 'MBA', 23])\n"
          ],
          "name": "stdout"
        }
      ]
    },
    {
      "cell_type": "code",
      "metadata": {
        "id": "5-hWKV7fGKW7",
        "colab_type": "code",
        "outputId": "2b171bf0-c239-4b9b-8fcc-b9eb26d00342",
        "colab": {
          "base_uri": "https://localhost:8080/",
          "height": 35
        }
      },
      "source": [
        "x=12\n",
        "int=int(x)\n",
        "print(int)"
      ],
      "execution_count": 0,
      "outputs": [
        {
          "output_type": "stream",
          "text": [
            "12\n"
          ],
          "name": "stdout"
        }
      ]
    },
    {
      "cell_type": "code",
      "metadata": {
        "id": "bO0EO0sAG6qI",
        "colab_type": "code",
        "outputId": "bca28192-a669-40bb-b90b-d9b83e4e31fb",
        "colab": {
          "base_uri": "https://localhost:8080/",
          "height": 35
        }
      },
      "source": [
        "# converting objects to a string representation.\n",
        "x=14\n",
        "y=str(x)\n",
        "print(y)"
      ],
      "execution_count": 0,
      "outputs": [
        {
          "output_type": "stream",
          "text": [
            "14\n"
          ],
          "name": "stdout"
        }
      ]
    },
    {
      "cell_type": "code",
      "metadata": {
        "id": "g4bNpi0sHcJY",
        "colab_type": "code",
        "outputId": "777e5806-5cd5-4921-be48-7672e0645813",
        "colab": {
          "base_uri": "https://localhost:8080/",
          "height": 35
        }
      },
      "source": [
        "# Module basic operator and calculate addition\n",
        "a=2\n",
        "b=3\n",
        "c=2\n",
        "d=a+b+c\n",
        "print(\"the total of a,b,c is\",d)"
      ],
      "execution_count": 0,
      "outputs": [
        {
          "output_type": "stream",
          "text": [
            "the total of a,b,c is 7\n"
          ],
          "name": "stdout"
        }
      ]
    },
    {
      "cell_type": "code",
      "metadata": {
        "id": "PBuBsW8kH2jg",
        "colab_type": "code",
        "outputId": "3598f266-f8cc-4d81-9c1a-3f23d1e42553",
        "colab": {
          "base_uri": "https://localhost:8080/",
          "height": 35
        }
      },
      "source": [
        "# basic operator and calculation of substraction\n",
        "a=45\n",
        "b=24\n",
        "c=a-b\n",
        "print(\"the difference of two numbers is\",c)"
      ],
      "execution_count": 0,
      "outputs": [
        {
          "output_type": "stream",
          "text": [
            "the difference of two numbers is 21\n"
          ],
          "name": "stdout"
        }
      ]
    },
    {
      "cell_type": "code",
      "metadata": {
        "id": "_6VQx-7ZIHHP",
        "colab_type": "code",
        "outputId": "ba0b45b9-f0ba-49dd-9cce-367711818528",
        "colab": {
          "base_uri": "https://localhost:8080/",
          "height": 35
        }
      },
      "source": [
        "#basic oeprator and calcuation of multiplication\n",
        "a=15\n",
        "b=23\n",
        "c=a*b\n",
        "print(\" the product of two numbers are\",c)"
      ],
      "execution_count": 0,
      "outputs": [
        {
          "output_type": "stream",
          "text": [
            " the product of two numbers are 345\n"
          ],
          "name": "stdout"
        }
      ]
    },
    {
      "cell_type": "code",
      "metadata": {
        "id": "oKjF68XQIatV",
        "colab_type": "code",
        "outputId": "8803d368-b7c0-4378-cabf-e168a5fec719",
        "colab": {
          "base_uri": "https://localhost:8080/",
          "height": 35
        }
      },
      "source": [
        "# Basic operator and calculation of division\n",
        "x=456\n",
        "y=231\n",
        "z=x/y\n",
        "print(\" The reminder of two numbers is\",z)"
      ],
      "execution_count": 0,
      "outputs": [
        {
          "output_type": "stream",
          "text": [
            " The reminder of two numbers is 1.974025974025974\n"
          ],
          "name": "stdout"
        }
      ]
    },
    {
      "cell_type": "code",
      "metadata": {
        "id": "O6d-fTbvJGev",
        "colab_type": "code",
        "outputId": "c79f6092-2327-4011-d73d-0848b2c66aa7",
        "colab": {
          "base_uri": "https://localhost:8080/",
          "height": 35
        }
      },
      "source": [
        "# comparision operators or relational operators if two operators are equal and result will becometrue\n",
        "a=25\n",
        "b=14\n",
        "if(a==b):\n",
        "  print(\"a is equal to b\")\n",
        "else:\n",
        "  print(\"a is not equal to b\")\n"
      ],
      "execution_count": 0,
      "outputs": [
        {
          "output_type": "stream",
          "text": [
            "a is not equal to b\n"
          ],
          "name": "stdout"
        }
      ]
    },
    {
      "cell_type": "code",
      "metadata": {
        "id": "vmbApEp2MHB4",
        "colab_type": "code",
        "outputId": "78675c18-9783-42ad-fb9b-f80122393c94",
        "colab": {
          "base_uri": "https://localhost:8080/",
          "height": 35
        }
      },
      "source": [
        "# operator for getting true results when conditions are not equal as true\n",
        "a=12\n",
        "b=56\n",
        "if (a!=b):\n",
        "  print(\"a is not equal to b\")\n",
        "else:\n",
        "  print(\"a is equal to b\")"
      ],
      "execution_count": 0,
      "outputs": [
        {
          "output_type": "stream",
          "text": [
            "a is not equal to b\n"
          ],
          "name": "stdout"
        }
      ]
    },
    {
      "cell_type": "code",
      "metadata": {
        "id": "xKDlI_-ZMzb_",
        "colab_type": "code",
        "outputId": "fa4ff30e-1e7a-4206-bb79-0ed129807d33",
        "colab": {
          "base_uri": "https://localhost:8080/",
          "height": 35
        }
      },
      "source": [
        "# larger and condition become true\n",
        "x=234\n",
        "y=145\n",
        "if x>y:\n",
        "  print(\"x is greater than y\")\n",
        "else:\n",
        "  print(\"x is smaller than y\")"
      ],
      "execution_count": 0,
      "outputs": [
        {
          "output_type": "stream",
          "text": [
            "x is greater than y\n"
          ],
          "name": "stdout"
        }
      ]
    },
    {
      "cell_type": "code",
      "metadata": {
        "id": "N3xEQOBFNVMq",
        "colab_type": "code",
        "outputId": "aee6f14f-626c-4cb1-9a5c-1dee6179eb65",
        "colab": {
          "base_uri": "https://localhost:8080/",
          "height": 35
        }
      },
      "source": [
        "# smaller and condition operator become true\n",
        "x=234\n",
        "y=145\n",
        "if x<y:\n",
        "  print(\"x is greater than y\")\n",
        "else:\n",
        "  print(\"x is smaller than y\")\n"
      ],
      "execution_count": 0,
      "outputs": [
        {
          "output_type": "stream",
          "text": [
            "x is smaller than y\n"
          ],
          "name": "stdout"
        }
      ]
    },
    {
      "cell_type": "code",
      "metadata": {
        "id": "rDdt4Re5Np-F",
        "colab_type": "code",
        "outputId": "0b4ac600-e53b-49dd-d0de-9e0a11b29831",
        "colab": {
          "base_uri": "https://localhost:8080/",
          "height": 35
        }
      },
      "source": [
        "# greater than or equals to\n",
        "x=222\n",
        "y=111\n",
        "if x>= y:\n",
        "  print(\" x is greater than or equal to y\")\n",
        "else:\n",
        "  print(\" x is not greater than or equal to y\")"
      ],
      "execution_count": 0,
      "outputs": [
        {
          "output_type": "stream",
          "text": [
            " x is greater than or equal to y\n"
          ],
          "name": "stdout"
        }
      ]
    },
    {
      "cell_type": "code",
      "metadata": {
        "id": "zliSw_6eOHxZ",
        "colab_type": "code",
        "outputId": "35a99d8c-cfc3-4152-9854-5e97fc1047d3",
        "colab": {
          "base_uri": "https://localhost:8080/",
          "height": 35
        }
      },
      "source": [
        "# lesser than or equal to\n",
        "x=145\n",
        "y=123\n",
        "if x<= y:\n",
        "  print(\" x is greater than or equal to y\")\n",
        "else:\n",
        "  print(\" x is not greater than or equal to y\")\n"
      ],
      "execution_count": 0,
      "outputs": [
        {
          "output_type": "stream",
          "text": [
            " x is not greater than or equal to y\n"
          ],
          "name": "stdout"
        }
      ]
    }
  ]
}